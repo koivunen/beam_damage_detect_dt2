{
  "nbformat": 4,
  "nbformat_minor": 0,
  "metadata": {
    "colab": {
      "name": "damage_detection.ipynb",
      "provenance": [],
      "authorship_tag": "ABX9TyOeukOmytwRQfrY9PE6ornD",
      "include_colab_link": true
    },
    "kernelspec": {
      "name": "python3",
      "display_name": "Python 3"
    },
    "language_info": {
      "name": "python"
    }
  },
  "cells": [
    {
      "cell_type": "markdown",
      "metadata": {
        "id": "view-in-github",
        "colab_type": "text"
      },
      "source": [
        "<a href=\"https://colab.research.google.com/github/koivunen/beamdefectdetect_dt2/blob/main/damage_detection.ipynb\" target=\"_parent\"><img src=\"https://colab.research.google.com/assets/colab-badge.svg\" alt=\"Open In Colab\"/></a>"
      ]
    },
    {
      "cell_type": "markdown",
      "source": [
        "## This is a demo on detecting steel beam defects \n",
        "\n",
        "### Guide\n",
        " - Press **Run All** (Ctrl+F9) to install dependencies\n",
        "    - The system will run the cells below until it gets killed\n",
        " - Press **Run All** (Ctrl+F9) again as we had to restart everything as part of the system installation process.\n",
        " - An upload dialog should pop up. Upload video named exactly **input.mp4**\n",
        " - Wait for the detection process to finish, this will take minutes/hours. Approx. one minute for five seconds of video.\n",
        " - A file should be offered as download with results!"
      ],
      "metadata": {
        "id": "KHuGoDT2IZ9e"
      }
    },
    {
      "cell_type": "code",
      "execution_count": null,
      "metadata": {
        "id": "mDChV-rCG5OK"
      },
      "outputs": [],
      "source": [
        "!pip install pyyaml==5.1\n",
        "import torch\n",
        "restart_runtime=False\n",
        "try:\n",
        "  import detectron2\n",
        "except ImportError as e:\n",
        "  restart_runtime=True\n",
        "!pip install detectron2 -f https://dl.fbaipublicfiles.com/detectron2/wheels/$CUDA_VERSION/torch$TORCH_VERSION/index.html\n",
        "if restart_runtime:\n",
        "  exit(0)"
      ]
    },
    {
      "cell_type": "code",
      "source": [
        "!wget --no-clobber \"https://seafile.utu.fi/f/cf91e875424b476cade8/?dl=1\" -O weights.pth # beam_damage_detectron2_2022-2-23.pth"
      ],
      "metadata": {
        "id": "NozorYuRLlKD"
      },
      "execution_count": null,
      "outputs": []
    },
    {
      "cell_type": "code",
      "source": [
        "from google.colab import files\n",
        "uploaded = files.upload()\n",
        "video_name = uploaded.keys()[0]"
      ],
      "metadata": {
        "id": "GDsFIrJmIXUC"
      },
      "execution_count": null,
      "outputs": []
    },
    {
      "cell_type": "code",
      "source": [
        "\n",
        "import detectron2\n",
        "from detectron2.utils.logger import setup_logger\n",
        "setup_logger()\n",
        "\n",
        "import numpy as np\n",
        "import os, json, cv2, random\n",
        "from google.colab.patches import cv2_imshow\n",
        "\n",
        "from detectron2 import model_zoo\n",
        "from detectron2.engine import DefaultPredictor\n",
        "from detectron2.config import get_cfg\n",
        "from detectron2.utils.visualizer import Visualizer\n",
        "from detectron2.data import MetadataCatalog, DatasetCatalog\n",
        "\n",
        "cfg = get_cfg()\n",
        "cfg.merge_from_file(model_zoo.get_config_file(\"COCO-InstanceSegmentation/mask_rcnn_R_50_FPN_3x.yaml\"))\n",
        "cfg.MODEL.ROI_HEADS.SCORE_THRESH_TEST = 0.5\n",
        "#cfg.MODEL.WEIGHTS = model_zoo.get_checkpoint_url(\"COCO-InstanceSegmentation/mask_rcnn_R_50_FPN_3x.yaml\")\n",
        "cfg.MODEL.WEIGHTS = 'weights.pth'\n",
        "predictor = DefaultPredictor(cfg)\n",
        "outputs = predictor(im)"
      ],
      "metadata": {
        "id": "bgX3NR5MILs0"
      },
      "execution_count": null,
      "outputs": []
    },
    {
      "cell_type": "code",
      "source": [
        "import cv2,tqdm\n",
        "from detectron2.utils.visualizer import ColorMode\n",
        "from detectron2.utils.video_visualizer import VideoVisualizer\n",
        "\n",
        "# From https://stackoverflow.com/a/62446532\n",
        "\n",
        "video = cv2.VideoCapture(video_name)\n",
        "width = int(video.get(cv2.CAP_PROP_FRAME_WIDTH))\n",
        "height = int(video.get(cv2.CAP_PROP_FRAME_HEIGHT))\n",
        "frames_per_second = video.get(cv2.CAP_PROP_FPS)\n",
        "num_frames = int(video.get(cv2.CAP_PROP_FRAME_COUNT))\n",
        "\n",
        "video_writer = cv2.VideoWriter('out2.mp4', fourcc=cv2.VideoWriter_fourcc(*\"mp4v\"), fps=float(frames_per_second), frameSize=(width, height), isColor=True)\n",
        "\n",
        "v = VideoVisualizer(MetadataCatalog.get(cfg.DATASETS.TRAIN[0]), ColorMode.IMAGE)\n",
        "\n",
        "def runOnVideo(video, maxFrames):\n",
        " \n",
        "    readFrames = 0\n",
        "    while True:\n",
        "        hasFrame, frame = video.read()\n",
        "        if not hasFrame:\n",
        "            break\n",
        "        outputs = predictor(frame)\n",
        "        frame = cv2.cvtColor(frame, cv2.COLOR_RGB2BGR)\n",
        "        visualization = v.draw_instance_predictions(frame, outputs[\"instances\"].to(\"cpu\"))\n",
        "        visualization = cv2.cvtColor(visualization.get_image(), cv2.COLOR_RGB2BGR)\n",
        "        yield visualization\n",
        "        readFrames += 1\n",
        "        if readFrames > maxFrames:\n",
        "            break\n",
        "\n",
        "num_frames = 60*60 # one minute long at 60fps max\n",
        "\n",
        "for visualization in tqdm.tqdm(runOnVideo(video, num_frames), total=num_frames):\n",
        "    video_writer.write(visualization)\n",
        "\n",
        "# Release resources\n",
        "video.release()\n",
        "video_writer.release()\n",
        "cv2.destroyAllWindows()"
      ],
      "metadata": {
        "id": "ap00uj6NMK3c"
      },
      "execution_count": null,
      "outputs": []
    },
    {
      "cell_type": "code",
      "source": [
        "# Download the results\n",
        "from google.colab import files\n",
        "files.download(video_name+'.detect.mp4')"
      ],
      "metadata": {
        "id": "82dEJ_LSMAZK"
      },
      "execution_count": null,
      "outputs": []
    }
  ]
}