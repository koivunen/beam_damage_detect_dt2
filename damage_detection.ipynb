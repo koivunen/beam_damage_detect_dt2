{
  "nbformat": 4,
  "nbformat_minor": 0,
  "metadata": {
    "colab": {
      "name": "damage_detection.ipynb",
      "provenance": [],
      "authorship_tag": "ABX9TyPZ2I2oy69EJraLZdSyR3ca",
      "include_colab_link": true
    },
    "kernelspec": {
      "name": "python3",
      "display_name": "Python 3"
    },
    "language_info": {
      "name": "python"
    },
    "accelerator": "GPU",
    "gpuClass": "standard"
  },
  "cells": [
    {
      "cell_type": "markdown",
      "metadata": {
        "id": "view-in-github",
        "colab_type": "text"
      },
      "source": [
        "<a href=\"https://colab.research.google.com/github/koivunen/beam_damage_detect_dt2/blob/main/damage_detection.ipynb\" target=\"_parent\"><img src=\"https://colab.research.google.com/assets/colab-badge.svg\" alt=\"Open In Colab\"/></a>"
      ]
    },
    {
      "cell_type": "markdown",
      "source": [
        "# Steel beam damage detector\n",
        "\n",
        "This is a demo on a steel beam damage detector. It will take in a video and output another video with the damage highlighted. A demo of output can be seen here: https://github.com/koivunen/beam_damage_detect_dt2#demo\n",
        "\n",
        "## Usage guide (how to use the notebook)\n",
        "\n",
        "You are in a \"notebook\" running inside Google Colab, which provides free computational processing for research in the cloud. \n",
        "Nothing needs to be installed locally. \n",
        "We also provide an input demo video for use if you do not have your own. \n",
        "\n",
        "Experiment freely, you can break nothing! You can also always just close the browser tab and start again! You will also [**NOT** incur any cloud costs](https://research.google.com/colaboratory/faq.html) for usage even if you have to login with your google account.\n",
        "\n",
        " 1. Pre-installation\n",
        " \n",
        "    Before continuing, you should choose a correct runtime type from the page's top menu to speed up processing: Runtime -> Change Runtime Type. Change it to GPU as seen below:\n",
        " \n",
        "  ![2022-02-24 16_54_49-Clipboard.png](data:image/png;base64,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)\n",
        " 2. Now we only need to go through the \"notebook\" following the instructions \n",
        " \n",
        "    Press the **play buttons** ![image.png](data:image/png;base64,iVBORw0KGgoAAAANSUhEUgAAABsAAAAcCAIAAAAfs1O6AAAAAXNSR0IArs4c6QAAAARnQU1BAACxjwv8YQUAAAAJcEhZcwAADsMAAA7DAcdvqGQAAAASdEVYdFNvZnR3YXJlAEdyZWVuc2hvdF5VCAUAAAENSURBVEhL7ZQxEoMgEEVztvRaa69H0d6z2OspvIU9bf6wXxBZGM0wqfIqdHdfsrD4MqX5rXGe53Ec+75/W7DA47IsDCfQjeu6tm0rohiEkMDUCMU4TRNLsyCNBSFX402doEoDI3ph7m3i9gNj0zRMPNF1HVca2FMWH3gjTpZZIfu+D8PAB43L3/TGVJlE8XtVVfFVCAolR/DGVHcMG7Ntm5qDOWWGxRsZj2DYktoBhi2Pjbg2DJxg2PKsa3cjz6CQGZYHJ1PXNV+FJE8mMz1qp47k9AB1wtVOHShh8UFgLH8LQeEvhXBTquqAYgToRd1TAaG4WYduFFCGyXBzigUeMy4hZ/yOv7EMpY3GfAC07C+/k9P5NAAAAABJRU5ErkJggg==) when hovering over each **code cell** below, in numeric order, one after another\n",
        " \n",
        "     - Follow the instructions before each code cell!\n",
        "    \n",
        "     - You may also need to check the results for signs of errors. \n",
        "    \n",
        "     - Wait for each cell to finish before proceeding to the next!\n",
        "\n",
        "**HINT:** There are three \"cell\" types. First is \"text cell\", the one you are reading. Another is code cell, which contains program code, which can be executed with the play button. Execution order is important, but you can always start from the beginning by pressing runtime->factory reset runtime. Below each code cell, after execution, is an output cell (after play button) that can contain anything from text to pictures to input dialogs."
      ],
      "metadata": {
        "id": "KHuGoDT2IZ9e"
      }
    },
    {
      "cell_type": "code",
      "source": [],
      "metadata": {
        "id": "w76JwwfzySCo"
      },
      "execution_count": null,
      "outputs": []
    },
    {
      "cell_type": "markdown",
      "source": [
        "## 1. Setting up environment\n",
        "This code cell will automatically install needed tools and data for the demo. These include Detectron 2 for processing and a detection model for beams from the cloud (automatically downloaded from UTU Seafile).\n",
        "\n",
        "After pressing play, results text will be printed below the code cell."
      ],
      "metadata": {
        "id": "SJc2eXOOQMVK"
      }
    },
    {
      "cell_type": "code",
      "execution_count": null,
      "metadata": {
        "id": "mDChV-rCG5OK"
      },
      "outputs": [],
      "source": [
        "!pip install --quiet pyyaml==5.1\n",
        "!wget --no-clobber -q --show-progress \"https://seafile.utu.fi/f/cf91e875424b476cade8/?dl=1\" -O weights.pth # beam_damage_detectron2_2022-2-23.pth\n",
        "import torch\n",
        "TORCH_VERSION = \".\".join(torch.__version__.split(\".\")[:2])\n",
        "CUDA_VERSION = torch.__version__.split(\"+\")[-1]\n",
        "NIF=\"FINISHED INSTALLATION\"\n",
        "restart_runtime=False\n",
        "try:\n",
        "  import detectron2\n",
        "except ImportError as e:\n",
        "  restart_runtime=True\n",
        "!python -m pip install 'git+https://github.com/facebookresearch/detectron2.git'\n",
        "if restart_runtime:\n",
        "  print(NIF)\n",
        "  exit(0)\n",
        "try:\n",
        "  import detectron2\n",
        "except ImportError as e:\n",
        "  print(\"FAILED TO INSTALL DETECTRON\")\n",
        "  print(\"torch: \", TORCH_VERSION, \"; cuda: \", CUDA_VERSION)\n",
        "  print(\"detectron2:\", detectron2.__version__)\n",
        "  exit(0)\n",
        "print(NIF)"
      ]
    },
    {
      "cell_type": "markdown",
      "source": [
        "You should see \"FINISHED INSTALLATION\" above as the last text.\n",
        "\n",
        " - If you see popup \"**Your session crashed for an unknown reason**\" this can be safely ignored and is part of the setup process.\n",
        " - If you see \"**FAILED TO INSTALL DETECTRON**\" or any other error, the setup has likely failed due to Colab updates or other reasons and the demo cannot be run."
      ],
      "metadata": {
        "id": "_dzZNwOk1as9"
      }
    },
    {
      "cell_type": "markdown",
      "source": [
        "## 2. Upload the video with possible steel beam damages\n",
        "With this cell you can upload a detection video to the system using the dialog that appears when you press the play button. As a demo you can use [this demo video](https://seafile.utu.fi/f/1cbd6551d4fe402b9903/?dl=1) (Note: has not been used in training).\n",
        "\n",
        "**NOTE:** A video should be low FPS (10fps or lower preferably) and low resolution (320x240 to about 1024x768) for speed.\n",
        "\n",
        "**Hint**: *You can reuse this notebook by choosing a new file to upload and continuing from the cells below*!"
      ],
      "metadata": {
        "id": "Hd7ADE0BQoks"
      }
    },
    {
      "cell_type": "code",
      "source": [
        "from google.colab import files\n",
        "uploaded = files.upload()\n",
        "video_name = next(iter(uploaded.keys()))"
      ],
      "metadata": {
        "id": "GDsFIrJmIXUC"
      },
      "execution_count": null,
      "outputs": []
    },
    {
      "cell_type": "markdown",
      "source": [
        "## 3. Setup detection\n",
        "After the upload, this code cell will set up the detection system. Nothing should break. Just press play as usual."
      ],
      "metadata": {
        "id": "FmbYFhB7Q2Uc"
      }
    },
    {
      "cell_type": "code",
      "source": [
        "import detectron2\n",
        "from detectron2.utils.logger import setup_logger\n",
        "setup_logger()\n",
        "import numpy as np\n",
        "import os, json, cv2, random\n",
        "from google.colab.patches import cv2_imshow\n",
        "from detectron2 import model_zoo\n",
        "from detectron2.engine import DefaultPredictor\n",
        "from detectron2.config import get_cfg\n",
        "from detectron2.utils.visualizer import Visualizer\n",
        "from detectron2.data import MetadataCatalog, DatasetCatalog\n",
        "\n",
        "MetadataCatalog.get(\"damage_train\").set(thing_classes=[\"damage\"])\n",
        "damage_metadata = MetadataCatalog.get(\"damage_train\")\n",
        "\n",
        "cfg = get_cfg()\n",
        "cfg.merge_from_file(model_zoo.get_config_file(\"COCO-InstanceSegmentation/mask_rcnn_R_50_FPN_3x.yaml\"))\n",
        "cfg.MODEL.ROI_HEADS.SCORE_THRESH_TEST = 0.7\n",
        "cfg.DATASETS.TRAIN = (\"damage_train\",)\n",
        "cfg.DATASETS.TEST = (\"damage_train\",)\n",
        "cfg.TEST.DETECTIONS_PER_IMAGE = 20\n",
        "cfg.MODEL.ROI_HEADS.BATCH_SIZE_PER_IMAGE = 128   # faster, and good enough for this toy dataset (default: 512) #TODO: Verify for car+beam\n",
        "cfg.MODEL.ROI_HEADS.NUM_CLASSES = 1  \n",
        "cfg.MODEL.WEIGHTS = 'weights.pth' #cfg.MODEL.WEIGHTS = model_zoo.get_checkpoint_url(\"COCO-InstanceSegmentation/mask_rcnn_R_50_FPN_3x.yaml\")\n",
        "predictor = DefaultPredictor(cfg)"
      ],
      "metadata": {
        "id": "bgX3NR5MILs0"
      },
      "execution_count": null,
      "outputs": []
    },
    {
      "cell_type": "markdown",
      "source": [
        "## 4. Run detection\n",
        "This code cell will run the actual detection on the file you uploaded. Detection will take anything from minutes to hours!\n",
        "\n",
        "**HINT** You can view progress and progress bar below along with predicted time remaining after pressing the play button. The updating preview image shown gets closer and closer to the most confident detection video frame in the video"
      ],
      "metadata": {
        "id": "4kbPD_17RFYO"
      }
    },
    {
      "cell_type": "code",
      "source": [
        "import cv2,tqdm,datetime\n",
        "from time import time as Now\n",
        "from detectron2.utils.visualizer import ColorMode\n",
        "from detectron2.utils.video_visualizer import VideoVisualizer\n",
        "from detectron2.utils.visualizer import ColorMode\n",
        "from IPython.display import clear_output \n",
        "\n",
        "# From https://stackoverflow.com/a/62446532\n",
        "video = cv2.VideoCapture(video_name)\n",
        "width = int(video.get(cv2.CAP_PROP_FRAME_WIDTH))\n",
        "height = int(video.get(cv2.CAP_PROP_FRAME_HEIGHT))\n",
        "frames_per_second = video.get(cv2.CAP_PROP_FPS)\n",
        "num_frames = int(video.get(cv2.CAP_PROP_FRAME_COUNT))\n",
        "assert frames_per_second<40,\"fps too high, will take forever\"\n",
        "assert num_frames/frames_per_second<60,\"video is over a minute long, will take forever\"\n",
        "assert width<1920,\"video size is too large, will take forever\"\n",
        "assert height<1080,\"video size is too large, will take forever\"\n",
        "print(\"Video info: w=\",width,\" h=\",height,\" fps=\",frames_per_second,\" frames=\",num_frames,\" seconds=\",num_frames/frames_per_second)\n",
        "max_frames = num_frames\n",
        "#max_frames = 60\n",
        "last_show_frame=0\n",
        "\n",
        "out_filename = video_name+'.detect.mp4'\n",
        "video_writer = cv2.VideoWriter(out_filename, fourcc=cv2.VideoWriter_fourcc(*\"mp4v\"), fps=float(frames_per_second), frameSize=(width, height), isColor=True)\n",
        "\n",
        "v = VideoVisualizer(MetadataCatalog.get(cfg.DATASETS.TRAIN[0]), ColorMode.IMAGE)\n",
        "\n",
        "def detect(video, maxFrames):\n",
        " \n",
        "    readFrames = 0\n",
        "    while True:\n",
        "        hasFrame, frame = video.read()\n",
        "        if not hasFrame:\n",
        "            break\n",
        "        outputs = predictor(frame)\n",
        "        frame = cv2.cvtColor(frame, cv2.COLOR_RGB2BGR)\n",
        "        data = outputs[\"instances\"].to(\"cpu\")\n",
        "        visualization = v.draw_instance_predictions(frame, data)\n",
        "        visualization = cv2.cvtColor(visualization.get_image(), cv2.COLOR_RGB2BGR)\n",
        "        yield (visualization,data,readFrames)\n",
        "        readFrames += 1\n",
        "        if readFrames > maxFrames:\n",
        "            break\n",
        "\n",
        "conf_increasing=0\n",
        "\n",
        "pbar=tqdm.tqdm(detect(video, min(max_frames,num_frames)), total=max_frames)\n",
        "for visualization,data,fnum in pbar:\n",
        "#for visualization,outputs,fnum in detect(video, min(max_frames,num_frames)):\n",
        "    video_writer.write(visualization)\n",
        "    scores=data.scores.tolist()\n",
        "    detection=False\n",
        "    if len(scores)>0:\n",
        "      conf=round(max(scores)*100)\n",
        "      if conf_increasing<conf:\n",
        "        conf_increasing=conf\n",
        "        detection=True\n",
        "      #detection=conf>0.5\n",
        "\n",
        "    if detection and Now()-last_show_frame>8:\n",
        "      last_show_frame=Now()\n",
        "      clear_output()\n",
        "      cv2_imshow(visualization)\n",
        "\n",
        "    if len(scores)>0:\n",
        "      conf=round(max(scores)*100)\n",
        "      s=fnum/frames_per_second\n",
        "      txt=\" Damage \"+str(conf)+\"% confidence @ \"+str(datetime.timedelta(seconds=int(s)))\n",
        "      pbar.set_description(txt, refresh=True)\n",
        "\n",
        "video.release()\n",
        "video_writer.release()\n",
        "cv2.destroyAllWindows()"
      ],
      "metadata": {
        "id": "ap00uj6NMK3c"
      },
      "execution_count": null,
      "outputs": []
    },
    {
      "cell_type": "markdown",
      "source": [
        "## 5. Download results video\n",
        "Finally, you can download the result video. *(For now, only a video is outputted instead of positional bookmarks)*"
      ],
      "metadata": {
        "id": "dYLZbakpRM9D"
      }
    },
    {
      "cell_type": "code",
      "source": [
        "from google.colab import files\n",
        "files.download(out_filename)"
      ],
      "metadata": {
        "id": "82dEJ_LSMAZK"
      },
      "execution_count": null,
      "outputs": []
    }
  ]
}